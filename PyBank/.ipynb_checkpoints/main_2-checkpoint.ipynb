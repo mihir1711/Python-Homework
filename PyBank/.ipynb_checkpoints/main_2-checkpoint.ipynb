{
 "cells": [
  {
   "cell_type": "code",
   "execution_count": null,
   "metadata": {},
   "outputs": [],
   "source": [
    "# Pybank Assignment"
   ]
  },
  {
   "cell_type": "code",
   "execution_count": 400,
   "metadata": {},
   "outputs": [],
   "source": [
    "# Import the pathlib and csv library\n",
    "from pathlib import Path\n",
    "import csv"
   ]
  },
  {
   "cell_type": "code",
   "execution_count": 401,
   "metadata": {},
   "outputs": [],
   "source": [
    "# Set the file path\n",
    "csvpath=Path(\"Resources/budget_data.csv\")"
   ]
  },
  {
   "cell_type": "code",
   "execution_count": 402,
   "metadata": {},
   "outputs": [],
   "source": [
    "# Initialize variables to capture count of months, cumulative sum of profit/ loss,\n",
    "# list of profits, list of months, list of changes\n",
    "count_total_months=0\n",
    "total_profit_or_loss=0\n",
    "profits=[]\n",
    "changes=[0]\n",
    "m=1\n",
    "n=0\n",
    "p=0\n",
    "months=[]"
   ]
  },
  {
   "cell_type": "code",
   "execution_count": 403,
   "metadata": {},
   "outputs": [
    {
     "name": "stdout",
     "output_type": "stream",
     "text": [
      "Total Months: 86\n",
      "Total: $38382578\n",
      "Average Change: $-2315.12\n",
      "Greatest Increase in Profits: Feb-2012 $1926159\n",
      "Greatest Decrease in Profits: Sep-2013 $-2196167\n"
     ]
    }
   ],
   "source": [
    "# Open the csv file as an object\n",
    "with open(csvpath, 'r') as csvfile:\n",
    "    \n",
    "    # Pass in the csv file to the csv.reader() function\n",
    "    # (with ',' as the delmiter/separator) and return the csvreader object\n",
    "    csvreader=csv.reader(csvfile, delimiter=\",\")\n",
    "      \n",
    "    # Read the header row\n",
    "    header=next(csvreader)\n",
    "    #print(header)\n",
    "    \n",
    "    # Read each row of data after the header and update variables\n",
    "    for row in csvreader:\n",
    " \n",
    "        # assign variables to convert str to int for monthly profit or loss\n",
    "        monthly_profit_or_loss=int(row[1])\n",
    "        month_name=row[0]\n",
    "        # for each iteration, update count of months,cumulative profit or loss,\n",
    "        # update list for profits\n",
    "        count_total_months+=1\n",
    "        total_profit_or_loss=total_profit_or_loss+monthly_profit_or_loss\n",
    "        profits.append(row)\n",
    "        #print(len(profits))\n",
    "        #print(profits)\n",
    "    \n",
    "    # for each iteration in profits, create a list of monthly changes\n",
    "    for x in profits:\n",
    "        if(m<len(profits)):\n",
    "            change=int(profits[m][1])-int(profits[n][1])\n",
    "            changes.append(change)\n",
    "            m+=1\n",
    "            n+=1\n",
    "    \n",
    "    for x in changes:\n",
    "        profits[p].append(x)\n",
    "        p+=1\n",
    "        \n",
    "    for x in profits:\n",
    "        name=x[0]\n",
    "        months.append(name)\n",
    "        \n",
    "               \n",
    "max_c=max(changes)\n",
    "min_c=min(changes)\n",
    "sum_c=sum(changes)\n",
    "avg_c=round(sum_c/(len(changes)-1),2)\n",
    "max_m_index=changes.index(max_c)\n",
    "min_m_index=changes.index(min_c)\n",
    "max_m=months[max_m_index]\n",
    "min_m=months[min_m_index]\n",
    "\n",
    "print(f\"Total Months: {count_total_months}\")\n",
    "print(f\"Total: ${total_profit_or_loss}\")\n",
    "print(f\"Average Change: ${avg_c}\")\n",
    "print(f\"Greatest Increase in Profits: {max_m} ${max_c}\")\n",
    "print(f\"Greatest Decrease in Profits: {min_m} ${min_c}\")"
   ]
  },
  {
   "cell_type": "code",
   "execution_count": null,
   "metadata": {},
   "outputs": [],
   "source": []
  }
 ],
 "metadata": {
  "kernelspec": {
   "display_name": "Python 3",
   "language": "python",
   "name": "python3"
  },
  "language_info": {
   "codemirror_mode": {
    "name": "ipython",
    "version": 3
   },
   "file_extension": ".py",
   "mimetype": "text/x-python",
   "name": "python",
   "nbconvert_exporter": "python",
   "pygments_lexer": "ipython3",
   "version": "3.7.7"
  }
 },
 "nbformat": 4,
 "nbformat_minor": 4
}
