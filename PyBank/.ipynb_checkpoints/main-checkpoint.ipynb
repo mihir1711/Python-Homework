{
 "cells": [
  {
   "cell_type": "code",
   "execution_count": null,
   "metadata": {},
   "outputs": [],
   "source": [
    "# Pybank Assignment"
   ]
  },
  {
   "cell_type": "code",
   "execution_count": 21,
   "metadata": {},
   "outputs": [],
   "source": [
    "# Import the pathlib and csv library\n",
    "from pathlib import Path\n",
    "import csv"
   ]
  },
  {
   "cell_type": "code",
   "execution_count": 22,
   "metadata": {},
   "outputs": [],
   "source": [
    "# Set the file path\n",
    "csvpath=Path(\"Resources/budget_data.csv\")"
   ]
  },
  {
   "cell_type": "code",
   "execution_count": 23,
   "metadata": {},
   "outputs": [],
   "source": [
    "# Initialize variables to capture count of months, cumulative sum of profit/ loss,\n",
    "# list of profits, list of months, list of changes\n",
    "count_total_months=0\n",
    "total_profit_or_loss=0\n",
    "profits=[]\n",
    "records=[]\n",
    "changes=[0]"
   ]
  },
  {
   "cell_type": "code",
   "execution_count": 24,
   "metadata": {},
   "outputs": [
    {
     "name": "stdout",
     "output_type": "stream",
     "text": [
      "Financial Analysis\n",
      "....................................................................................\n",
      "Total Months: 86\n",
      "Total: $38382578\n",
      "Average change: $-2315.12\n",
      "Greatest Increase in Profits: Feb-2012 ($1926159)\n",
      "Greatest Decrease in Profits: Sep-2013 ($-2196167)\n"
     ]
    }
   ],
   "source": [
    "# Open the csv file as an object\n",
    "with open(csvpath, 'r') as csvfile:\n",
    "    \n",
    "    # Pass in the csv file to the csv.reader() function\n",
    "    # (with ',' as the delmiter/separator) and return the csvreader object\n",
    "    csvreader=csv.reader(csvfile, delimiter=\",\")\n",
    "    \n",
    "#---Updating HEADER (Start)-----    \n",
    "    # Read the header row\n",
    "    header=next(csvreader)\n",
    "    #print(header)\n",
    "    \n",
    "    # Append the column 'Changes' to the header\n",
    "    header.append(\"Changes\")\n",
    "    \n",
    "    # Append the header to the list of records\n",
    "    records.append(header)\n",
    "    #print(records)\n",
    "#---Updating HEADER (End)-----\n",
    "# find net amount of profit and loss\n",
    "    P = []\n",
    "    months = []\n",
    "\n",
    "    #read through each row of data after header\n",
    "    for rows in csvreader:\n",
    "        P.append(int(rows[1]))\n",
    "        months.append(rows[0])\n",
    "\n",
    "    # find revenue change\n",
    "    revenue_change = []\n",
    "\n",
    "    for x in range(1, len(P)):\n",
    "        revenue_change.append((int(P[x]) - int(P[x-1])))\n",
    "    \n",
    "    # calculate average revenue change\n",
    "    revenue_average = round(sum(revenue_change) / len(revenue_change),2)\n",
    "    \n",
    "    # calculate total length of months\n",
    "    total_months = len(months)\n",
    "\n",
    "    # greatest increase in revenue\n",
    "    greatest_increase = max(revenue_change)\n",
    "    # greatest decrease in revenue\n",
    "    greatest_decrease = min(revenue_change)\n",
    "\n",
    "\n",
    "    # print the Results\n",
    "    print(\"Financial Analysis\")\n",
    "    \n",
    "    print(\"....................................................................................\")\n",
    "\n",
    "    print(\"Total Months: \" + str(total_months))\n",
    "\n",
    "    print(\"Total: \" + \"$\" + str(sum(P)))\n",
    "\n",
    "    print(\"Average change: \" + \"$\" + str(revenue_average))\n",
    "\n",
    "    print(\"Greatest Increase in Profits: \" + str(months[revenue_change.index(max(revenue_change))+1]) + \" \" + \"($\" + str(greatest_increase) +\")\")\n",
    "\n",
    "    print(\"Greatest Decrease in Profits: \" + str(months[revenue_change.index(min(revenue_change))+1]) + \" \" + \"($\" + str(greatest_decrease) +\")\")\n",
    "    \n",
    "    \n",
    "    # output to a text file\n",
    "\n",
    "    # Set output file name\n",
    "    output_path='output_file.txt'\n",
    "\n",
    "    # Open the output path as a file object\n",
    "    with open(output_path, \"w\") as output_txt:\n",
    "    \n",
    "        output_txt.write(\"Financial Analysis\" + \"\\n\")\n",
    "\n",
    "        output_txt.write(\"....................................................................................\" + \"\\n\")\n",
    "\n",
    "        output_txt.write(\"total months: \" + str(total_months) + \"\\n\")\n",
    "\n",
    "        output_txt.write(\"Total: \" + \"$\" + str(sum(P)) + \"\\n\")\n",
    "\n",
    "        output_txt.write(\"Average change: \" + \"$\" + str(revenue_average) + \"\\n\")\n",
    "\n",
    "        output_txt.write(\"Greatest Increase in Profits: \" + str(months[revenue_change.index(max(revenue_change))+1]) + \" \" + \"$\" + str(greatest_increase) + \"\\n\")\n",
    "\n",
    "        output_txt.write(\"Greatest Decrease in Profits: \" + str(months[revenue_change.index(min(revenue_change))+1]) + \" \" + \"$\" + str(greatest_decrease) + \"\\n\")\n",
    "\n",
    "\n"
   ]
  },
  {
   "cell_type": "code",
   "execution_count": null,
   "metadata": {},
   "outputs": [],
   "source": []
  }
 ],
 "metadata": {
  "kernelspec": {
   "display_name": "Python 3",
   "language": "python",
   "name": "python3"
  },
  "language_info": {
   "codemirror_mode": {
    "name": "ipython",
    "version": 3
   },
   "file_extension": ".py",
   "mimetype": "text/x-python",
   "name": "python",
   "nbconvert_exporter": "python",
   "pygments_lexer": "ipython3",
   "version": "3.7.7"
  }
 },
 "nbformat": 4,
 "nbformat_minor": 4
}
