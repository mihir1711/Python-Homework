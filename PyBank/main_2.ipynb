{
 "cells": [
  {
   "cell_type": "code",
   "execution_count": null,
   "metadata": {},
   "outputs": [],
   "source": [
    "# Pybank Assignment"
   ]
  },
  {
   "cell_type": "code",
   "execution_count": 184,
   "metadata": {},
   "outputs": [],
   "source": [
    "# Import the pathlib and csv library\n",
    "from pathlib import Path\n",
    "import csv"
   ]
  },
  {
   "cell_type": "code",
   "execution_count": 185,
   "metadata": {},
   "outputs": [],
   "source": [
    "# Set the file path\n",
    "csvpath=Path(\"Resources/budget_data.csv\")"
   ]
  },
  {
   "cell_type": "code",
   "execution_count": 186,
   "metadata": {},
   "outputs": [],
   "source": [
    "# Initialize variables to capture count of months, cumulative sum of profit/ loss,\n",
    "# list of profits, list of months, list of changes\n",
    "count_total_months=0\n",
    "total_profit_or_loss=0\n",
    "profits=[]\n",
    "records=[]\n",
    "changes=[0]"
   ]
  },
  {
   "cell_type": "code",
   "execution_count": 187,
   "metadata": {},
   "outputs": [],
   "source": [
    "# Open the csv file as an object\n",
    "with open(csvpath, 'r') as csvfile:\n",
    "    \n",
    "    # Pass in the csv file to the csv.reader() function\n",
    "    # (with ',' as the delmiter/separator) and return the csvreader object\n",
    "    csvreader=csv.reader(csvfile, delimiter=\",\")\n",
    "    \n",
    "#---Updating HEADER (Start)-----    \n",
    "    # Read the header row\n",
    "    header=next(csvreader)\n",
    "    #print(header)\n",
    "    \n",
    "    # Append the column 'Changes' to the header\n",
    "    header.append(\"Changes\")\n",
    "    \n",
    "    # Append the header to the list of records\n",
    "    records.append(header)\n",
    "    #print(records)\n",
    "#---Updating HEADER (End)-----\n",
    "\n",
    "    # Read each row of data after the header and update variables\n",
    "    # to calculate iterative values\n",
    "    for row in csvreader:\n",
    "        \n",
    "        # assign variables to convert str to int for monthly profit or loss\n",
    "        monthly_profit_or_loss=int(row[1])\n",
    "        \n",
    "        # for each iteration, update count of months,cumulative profit or loss,\n",
    "        # update list for profits\n",
    "        count_total_months+=1\n",
    "        total_profit_or_loss=total_profit_or_loss+monthly_profit_or_loss\n",
    "        profits.append(int(row[1]))\n",
    "    \n",
    "        # initialize variables m, n\n",
    "        n=0\n",
    "        m=1\n",
    "    \n",
    "        # for each iteration in profits, create a list of monthly changes\n",
    "    for x in profits:\n",
    "        if(n<len(profits)-1):\n",
    "            changes.append(profits[m]-profits[n])\n",
    "            m+=1\n",
    "            n+=1\n",
    "    \n",
    "    for row in csvreader:\n",
    "        #row.append(changes)\n",
    "        for x in changes:\n",
    "            row.append(x)\n",
    "            print(row)\n",
    "        #records.append(row)\n",
    "    \n",
    "        \n",
    "# print(count_total_months)\n",
    "# print(total_profit_or_loss)\n",
    "#print(changes)\n",
    "#print(records)"
   ]
  },
  {
   "cell_type": "code",
   "execution_count": null,
   "metadata": {},
   "outputs": [],
   "source": []
  }
 ],
 "metadata": {
  "kernelspec": {
   "display_name": "Python 3",
   "language": "python",
   "name": "python3"
  },
  "language_info": {
   "codemirror_mode": {
    "name": "ipython",
    "version": 3
   },
   "file_extension": ".py",
   "mimetype": "text/x-python",
   "name": "python",
   "nbconvert_exporter": "python",
   "pygments_lexer": "ipython3",
   "version": "3.7.7"
  }
 },
 "nbformat": 4,
 "nbformat_minor": 4
}
